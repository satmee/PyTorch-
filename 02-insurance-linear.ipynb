{
 "cells": [
  {
   "cell_type": "markdown",
   "metadata": {
    "_cell_guid": "b1076dfc-b9ad-4769-8c92-a6c4dae69d19",
    "_uuid": "8f2839f25d086af736a60e9eeb907d3b93b6e0e5"
   },
   "source": [
    "# Insurance cost prediction using linear regression\n",
    "\n",
    "Make a submisson here: https://jovian.ai/learn/deep-learning-with-pytorch-zero-to-gans/assignment/assignment-2-train-your-first-model\n",
    "\n",
    "In this assignment we're going to use information like a person's age, sex, BMI, no. of children and smoking habit to predict the price of yearly medical bills. This kind of model is useful for insurance companies to determine the yearly insurance premium for a person. The dataset for this problem is taken from [Kaggle](https://www.kaggle.com/mirichoi0218/insurance).\n",
    "\n",
    "\n",
    "We will create a model with the following steps:\n",
    "1. Download and explore the dataset\n",
    "2. Prepare the dataset for training\n",
    "3. Create a linear regression model\n",
    "4. Train the model to fit the data\n",
    "5. Make predictions using the trained model\n",
    "\n",
    "\n",
    "This assignment builds upon the concepts from the first 2 lessons. It will help to review these Jupyter notebooks:\n",
    "- PyTorch basics: https://jovian.ai/aakashns/01-pytorch-basics\n",
    "- Linear Regression: https://jovian.ai/aakashns/02-linear-regression\n",
    "- Logistic Regression: https://jovian.ai/aakashns/03-logistic-regression\n",
    "- Linear regression (minimal): https://jovian.ai/aakashns/housing-linear-minimal\n",
    "- Logistic regression (minimal): https://jovian.ai/aakashns/mnist-logistic-minimal\n",
    "\n",
    "As you go through this notebook, you will find a **???** in certain places. Your job is to replace the **???** with appropriate code or values, to ensure that the notebook runs properly end-to-end . In some cases, you'll be required to choose some hyperparameters (learning rate, batch size etc.). Try to experiment with the hypeparameters to get the lowest loss.\n"
   ]
  },
  {
   "cell_type": "code",
   "execution_count": 407,
   "metadata": {},
   "outputs": [
    {
     "name": "stdout",
     "output_type": "stream",
     "text": [
      "Looking in links: https://download.pytorch.org/whl/torch_stable.html\n",
      "Requirement already satisfied: numpy in /opt/conda/lib/python3.8/site-packages (1.19.2)\n",
      "Requirement already satisfied: matplotlib in /opt/conda/lib/python3.8/site-packages (3.3.2)\n",
      "Requirement already satisfied: pandas in /opt/conda/lib/python3.8/site-packages (1.1.3)\n",
      "Requirement already satisfied: torch==1.7.0+cpu in /opt/conda/lib/python3.8/site-packages (1.7.0+cpu)\n",
      "Requirement already satisfied: torchvision==0.8.1+cpu in /opt/conda/lib/python3.8/site-packages (0.8.1+cpu)\n",
      "Requirement already satisfied: torchaudio==0.7.0 in /opt/conda/lib/python3.8/site-packages (0.7.0)\n",
      "Requirement already satisfied: kiwisolver>=1.0.1 in /opt/conda/lib/python3.8/site-packages (from matplotlib) (1.2.0)\n",
      "Requirement already satisfied: pillow>=6.2.0 in /opt/conda/lib/python3.8/site-packages (from matplotlib) (8.0.0)\n",
      "Requirement already satisfied: pyparsing!=2.0.4,!=2.1.2,!=2.1.6,>=2.0.3 in /opt/conda/lib/python3.8/site-packages (from matplotlib) (2.4.7)\n",
      "Requirement already satisfied: certifi>=2020.06.20 in /opt/conda/lib/python3.8/site-packages (from matplotlib) (2020.6.20)\n",
      "Requirement already satisfied: cycler>=0.10 in /opt/conda/lib/python3.8/site-packages (from matplotlib) (0.10.0)\n",
      "Requirement already satisfied: python-dateutil>=2.1 in /opt/conda/lib/python3.8/site-packages (from matplotlib) (2.8.1)\n",
      "Requirement already satisfied: pytz>=2017.2 in /opt/conda/lib/python3.8/site-packages (from pandas) (2020.1)\n",
      "Requirement already satisfied: future in /opt/conda/lib/python3.8/site-packages (from torch==1.7.0+cpu) (0.18.2)\n",
      "Requirement already satisfied: typing-extensions in /opt/conda/lib/python3.8/site-packages (from torch==1.7.0+cpu) (3.7.4.3)\n",
      "Requirement already satisfied: dataclasses in /opt/conda/lib/python3.8/site-packages (from torch==1.7.0+cpu) (0.6)\n",
      "Requirement already satisfied: six in /opt/conda/lib/python3.8/site-packages (from cycler>=0.10->matplotlib) (1.15.0)\n"
     ]
    }
   ],
   "source": [
    "# Uncomment and run the appropriate command for your operating system, if required\n",
    "\n",
    "# Linux / Binder\n",
    "# !pip install numpy matplotlib pandas torch==1.7.0+cpu torchvision==0.8.1+cpu torchaudio==0.7.0 -f https://download.pytorch.org/whl/torch_stable.html\n",
    "\n",
    "# Windows\n",
    "!pip install numpy matplotlib pandas torch==1.7.0+cpu torchvision==0.8.1+cpu torchaudio==0.7.0 -f https://download.pytorch.org/whl/torch_stable.html\n",
    "\n",
    "# MacOS\n",
    "# !pip install numpy matplotlib pandas torch torchvision torchaudio"
   ]
  },
  {
   "cell_type": "code",
   "execution_count": 408,
   "metadata": {},
   "outputs": [],
   "source": [
    "import torch\n",
    "import jovian\n",
    "import torchvision\n",
    "import torch.nn as nn\n",
    "import pandas as pd\n",
    "import matplotlib.pyplot as plt\n",
    "import torch.nn.functional as F\n",
    "from torchvision.datasets.utils import download_url\n",
    "from torch.utils.data import DataLoader, TensorDataset, random_split"
   ]
  },
  {
   "cell_type": "code",
   "execution_count": 409,
   "metadata": {},
   "outputs": [],
   "source": [
    "project_name='02-insurance-linear-regression' # will be used by jovian.commit"
   ]
  },
  {
   "cell_type": "markdown",
   "metadata": {},
   "source": [
    "## Step 1: Download and explore the data\n",
    "\n",
    "Let us begin by downloading the data. We'll use the `download_url` function from PyTorch to get the data as a CSV (comma-separated values) file. "
   ]
  },
  {
   "cell_type": "code",
   "execution_count": 410,
   "metadata": {
    "_cell_guid": "79c7e3d0-c299-4dcb-8224-4455121ee9b0",
    "_uuid": "d629ff2d2480ee46fbb7e2d37f6b5fab8052498a"
   },
   "outputs": [
    {
     "name": "stdout",
     "output_type": "stream",
     "text": [
      "Using downloaded and verified file: ./insurance.csv\n"
     ]
    }
   ],
   "source": [
    "DATASET_URL = \"https://hub.jovian.ml/wp-content/uploads/2020/05/insurance.csv\"\n",
    "DATA_FILENAME = \"insurance.csv\"\n",
    "download_url(DATASET_URL, '.')"
   ]
  },
  {
   "cell_type": "markdown",
   "metadata": {},
   "source": [
    "To load the dataset into memory, we'll use the `read_csv` function from the `pandas` library. The data will be loaded as a Pandas dataframe. See this short tutorial to learn more: https://data36.com/pandas-tutorial-1-basics-reading-data-files-dataframes-data-selection/"
   ]
  },
  {
   "cell_type": "code",
   "execution_count": 411,
   "metadata": {},
   "outputs": [
    {
     "data": {
      "text/html": [
       "<div>\n",
       "<style scoped>\n",
       "    .dataframe tbody tr th:only-of-type {\n",
       "        vertical-align: middle;\n",
       "    }\n",
       "\n",
       "    .dataframe tbody tr th {\n",
       "        vertical-align: top;\n",
       "    }\n",
       "\n",
       "    .dataframe thead th {\n",
       "        text-align: right;\n",
       "    }\n",
       "</style>\n",
       "<table border=\"1\" class=\"dataframe\">\n",
       "  <thead>\n",
       "    <tr style=\"text-align: right;\">\n",
       "      <th></th>\n",
       "      <th>age</th>\n",
       "      <th>sex</th>\n",
       "      <th>bmi</th>\n",
       "      <th>children</th>\n",
       "      <th>smoker</th>\n",
       "      <th>region</th>\n",
       "      <th>charges</th>\n",
       "    </tr>\n",
       "  </thead>\n",
       "  <tbody>\n",
       "    <tr>\n",
       "      <th>0</th>\n",
       "      <td>19</td>\n",
       "      <td>female</td>\n",
       "      <td>27.900</td>\n",
       "      <td>0</td>\n",
       "      <td>yes</td>\n",
       "      <td>southwest</td>\n",
       "      <td>16884.92400</td>\n",
       "    </tr>\n",
       "    <tr>\n",
       "      <th>1</th>\n",
       "      <td>18</td>\n",
       "      <td>male</td>\n",
       "      <td>33.770</td>\n",
       "      <td>1</td>\n",
       "      <td>no</td>\n",
       "      <td>southeast</td>\n",
       "      <td>1725.55230</td>\n",
       "    </tr>\n",
       "    <tr>\n",
       "      <th>2</th>\n",
       "      <td>28</td>\n",
       "      <td>male</td>\n",
       "      <td>33.000</td>\n",
       "      <td>3</td>\n",
       "      <td>no</td>\n",
       "      <td>southeast</td>\n",
       "      <td>4449.46200</td>\n",
       "    </tr>\n",
       "    <tr>\n",
       "      <th>3</th>\n",
       "      <td>33</td>\n",
       "      <td>male</td>\n",
       "      <td>22.705</td>\n",
       "      <td>0</td>\n",
       "      <td>no</td>\n",
       "      <td>northwest</td>\n",
       "      <td>21984.47061</td>\n",
       "    </tr>\n",
       "    <tr>\n",
       "      <th>4</th>\n",
       "      <td>32</td>\n",
       "      <td>male</td>\n",
       "      <td>28.880</td>\n",
       "      <td>0</td>\n",
       "      <td>no</td>\n",
       "      <td>northwest</td>\n",
       "      <td>3866.85520</td>\n",
       "    </tr>\n",
       "  </tbody>\n",
       "</table>\n",
       "</div>"
      ],
      "text/plain": [
       "   age     sex     bmi  children smoker     region      charges\n",
       "0   19  female  27.900         0    yes  southwest  16884.92400\n",
       "1   18    male  33.770         1     no  southeast   1725.55230\n",
       "2   28    male  33.000         3     no  southeast   4449.46200\n",
       "3   33    male  22.705         0     no  northwest  21984.47061\n",
       "4   32    male  28.880         0     no  northwest   3866.85520"
      ]
     },
     "execution_count": 411,
     "metadata": {},
     "output_type": "execute_result"
    }
   ],
   "source": [
    "dataframe_raw = pd.read_csv(DATA_FILENAME)\n",
    "dataframe_raw.head()"
   ]
  },
  {
   "cell_type": "markdown",
   "metadata": {},
   "source": [
    "We're going to do a slight customization of the data, so that you every participant receives a slightly different version of the dataset. Fill in your name below as a string (enter at least 5 characters)"
   ]
  },
  {
   "cell_type": "code",
   "execution_count": 412,
   "metadata": {},
   "outputs": [],
   "source": [
    "your_name = \"Sathi\" # at least 5 characters"
   ]
  },
  {
   "cell_type": "markdown",
   "metadata": {},
   "source": [
    "The `customize_dataset` function will customize the dataset slightly using your name as a source of random numbers."
   ]
  },
  {
   "cell_type": "code",
   "execution_count": 413,
   "metadata": {},
   "outputs": [],
   "source": [
    "def customize_dataset(dataframe_raw, rand_str):\n",
    "    dataframe = dataframe_raw.copy(deep=True)\n",
    "    # drop some rows\n",
    "    dataframe = dataframe.sample(int(0.95*len(dataframe)), random_state=int(ord(rand_str[0])))\n",
    "    # scale input\n",
    "    dataframe.bmi = dataframe.bmi * ord(rand_str[1])/100.\n",
    "    # scale target\n",
    "    dataframe.charges = dataframe.charges * ord(rand_str[2])/100.\n",
    "    # drop column\n",
    "    if ord(rand_str[3]) % 2 == 1:\n",
    "        dataframe = dataframe.drop(['region'], axis=1)\n",
    "    return dataframe"
   ]
  },
  {
   "cell_type": "code",
   "execution_count": 414,
   "metadata": {},
   "outputs": [
    {
     "data": {
      "text/html": [
       "<div>\n",
       "<style scoped>\n",
       "    .dataframe tbody tr th:only-of-type {\n",
       "        vertical-align: middle;\n",
       "    }\n",
       "\n",
       "    .dataframe tbody tr th {\n",
       "        vertical-align: top;\n",
       "    }\n",
       "\n",
       "    .dataframe thead th {\n",
       "        text-align: right;\n",
       "    }\n",
       "</style>\n",
       "<table border=\"1\" class=\"dataframe\">\n",
       "  <thead>\n",
       "    <tr style=\"text-align: right;\">\n",
       "      <th></th>\n",
       "      <th>age</th>\n",
       "      <th>sex</th>\n",
       "      <th>bmi</th>\n",
       "      <th>children</th>\n",
       "      <th>smoker</th>\n",
       "      <th>region</th>\n",
       "      <th>charges</th>\n",
       "    </tr>\n",
       "  </thead>\n",
       "  <tbody>\n",
       "    <tr>\n",
       "      <th>0</th>\n",
       "      <td>19</td>\n",
       "      <td>female</td>\n",
       "      <td>27.900</td>\n",
       "      <td>0</td>\n",
       "      <td>yes</td>\n",
       "      <td>southwest</td>\n",
       "      <td>16884.92400</td>\n",
       "    </tr>\n",
       "    <tr>\n",
       "      <th>1</th>\n",
       "      <td>18</td>\n",
       "      <td>male</td>\n",
       "      <td>33.770</td>\n",
       "      <td>1</td>\n",
       "      <td>no</td>\n",
       "      <td>southeast</td>\n",
       "      <td>1725.55230</td>\n",
       "    </tr>\n",
       "    <tr>\n",
       "      <th>2</th>\n",
       "      <td>28</td>\n",
       "      <td>male</td>\n",
       "      <td>33.000</td>\n",
       "      <td>3</td>\n",
       "      <td>no</td>\n",
       "      <td>southeast</td>\n",
       "      <td>4449.46200</td>\n",
       "    </tr>\n",
       "    <tr>\n",
       "      <th>3</th>\n",
       "      <td>33</td>\n",
       "      <td>male</td>\n",
       "      <td>22.705</td>\n",
       "      <td>0</td>\n",
       "      <td>no</td>\n",
       "      <td>northwest</td>\n",
       "      <td>21984.47061</td>\n",
       "    </tr>\n",
       "    <tr>\n",
       "      <th>4</th>\n",
       "      <td>32</td>\n",
       "      <td>male</td>\n",
       "      <td>28.880</td>\n",
       "      <td>0</td>\n",
       "      <td>no</td>\n",
       "      <td>northwest</td>\n",
       "      <td>3866.85520</td>\n",
       "    </tr>\n",
       "  </tbody>\n",
       "</table>\n",
       "</div>"
      ],
      "text/plain": [
       "   age     sex     bmi  children smoker     region      charges\n",
       "0   19  female  27.900         0    yes  southwest  16884.92400\n",
       "1   18    male  33.770         1     no  southeast   1725.55230\n",
       "2   28    male  33.000         3     no  southeast   4449.46200\n",
       "3   33    male  22.705         0     no  northwest  21984.47061\n",
       "4   32    male  28.880         0     no  northwest   3866.85520"
      ]
     },
     "execution_count": 414,
     "metadata": {},
     "output_type": "execute_result"
    }
   ],
   "source": [
    "dataframe_raw = pd.read_csv(DATA_FILENAME)\n",
    "dataframe_raw.head()"
   ]
  },
  {
   "cell_type": "markdown",
   "metadata": {},
   "source": [
    "Let us answer some basic questions about the dataset. \n",
    "\n",
    "\n",
    "**Q: How many rows does the dataset have?**"
   ]
  },
  {
   "cell_type": "code",
   "execution_count": 415,
   "metadata": {},
   "outputs": [
    {
     "name": "stdout",
     "output_type": "stream",
     "text": [
      "The number of rows are: 1271\n"
     ]
    }
   ],
   "source": [
    "rows = dataframe.index\n",
    "num_rows = len(rows)\n",
    "print(\"The number of rows are:\",num_rows)"
   ]
  },
  {
   "cell_type": "markdown",
   "metadata": {},
   "source": [
    "**Q: How many columns doe the dataset have**"
   ]
  },
  {
   "cell_type": "code",
   "execution_count": 416,
   "metadata": {},
   "outputs": [
    {
     "name": "stdout",
     "output_type": "stream",
     "text": [
      "7\n",
      "The number of columns are : 7\n"
     ]
    }
   ],
   "source": [
    "num_cols = dataframe.shape[1]\n",
    "print(num_cols)\n",
    "print(\"The number of columns are :\",num_cols)"
   ]
  },
  {
   "cell_type": "markdown",
   "metadata": {},
   "source": [
    "**Q: What are the column titles of the input variables?**"
   ]
  },
  {
   "cell_type": "code",
   "execution_count": 417,
   "metadata": {},
   "outputs": [
    {
     "data": {
      "text/plain": [
       "Index(['age', 'sex', 'bmi', 'children', 'smoker', 'region'], dtype='object')"
      ]
     },
     "execution_count": 417,
     "metadata": {},
     "output_type": "execute_result"
    }
   ],
   "source": [
    "input_cols =  dataframe.columns[:-1]\n",
    "input_cols"
   ]
  },
  {
   "cell_type": "markdown",
   "metadata": {},
   "source": [
    "**Q: Which of the input columns are non-numeric or categorial variables ?**\n",
    "\n",
    "Hint: `sex` is one of them. List the columns that are not numbers."
   ]
  },
  {
   "cell_type": "code",
   "execution_count": 418,
   "metadata": {},
   "outputs": [
    {
     "data": {
      "text/plain": [
       "age           int64\n",
       "sex          object\n",
       "bmi         float64\n",
       "children      int64\n",
       "smoker       object\n",
       "region       object\n",
       "charges     float64\n",
       "dtype: object"
      ]
     },
     "execution_count": 418,
     "metadata": {},
     "output_type": "execute_result"
    }
   ],
   "source": [
    "# returns data type \n",
    "dataframe.dtypes"
   ]
  },
  {
   "cell_type": "markdown",
   "metadata": {},
   "source": [
    "**Q: What are the column titles of output/target variable(s)?**"
   ]
  },
  {
   "cell_type": "code",
   "execution_count": 419,
   "metadata": {},
   "outputs": [
    {
     "data": {
      "text/plain": [
       "Index(['charges'], dtype='object')"
      ]
     },
     "execution_count": 419,
     "metadata": {},
     "output_type": "execute_result"
    }
   ],
   "source": [
    "output_cols = dataframe.columns[[-1]]\n",
    "output_cols"
   ]
  },
  {
   "cell_type": "markdown",
   "metadata": {},
   "source": [
    "**Q: (Optional) What is the minimum, maximum and average value of the `charges` column? Can you show the distribution of values in a graph?**\n",
    "Use this data visualization cheatsheet for referece: https://jovian.ml/aakashns/dataviz-cheatsheet"
   ]
  },
  {
   "cell_type": "code",
   "execution_count": 420,
   "metadata": {},
   "outputs": [
    {
     "name": "stdout",
     "output_type": "stream",
     "text": [
      "The maximim charge value is : 1301.373724\n",
      "The minimum charge value is : 73973.6964916\n",
      "The average charge value is : 15526.647315851496\n"
     ]
    }
   ],
   "source": [
    "min = dataframe['charges'].min()\n",
    "print(\"The maximim charge value is :\",min)\n",
    "max = dataframe['charges'].max()\n",
    "print(\"The minimum charge value is :\",max)\n",
    "average = dataframe['charges'].mean()\n",
    "print(\"The average charge value is :\",average)"
   ]
  },
  {
   "cell_type": "markdown",
   "metadata": {},
   "source": [
    "Remember to commit your notebook to Jovian after every step, so that you don't lose your work."
   ]
  },
  {
   "cell_type": "code",
   "execution_count": 421,
   "metadata": {},
   "outputs": [],
   "source": [
    "!pip install jovian --upgrade -q"
   ]
  },
  {
   "cell_type": "code",
   "execution_count": 422,
   "metadata": {},
   "outputs": [],
   "source": [
    "import jovian"
   ]
  },
  {
   "cell_type": "code",
   "execution_count": 423,
   "metadata": {},
   "outputs": [
    {
     "data": {
      "application/javascript": [
       "window.require && require([\"base/js/namespace\"],function(Jupyter){Jupyter.notebook.save_checkpoint()})"
      ],
      "text/plain": [
       "<IPython.core.display.Javascript object>"
      ]
     },
     "metadata": {},
     "output_type": "display_data"
    },
    {
     "name": "stdout",
     "output_type": "stream",
     "text": [
      "[jovian] Attempting to save notebook..\u001b[0m\n",
      "[jovian] Updating notebook \"sathi-satb/02-insurance-linear-regression\" on https://jovian.ai\u001b[0m\n",
      "[jovian] Uploading notebook..\u001b[0m\n",
      "[jovian] Uploading additional files...\u001b[0m\n",
      "[jovian] Committed successfully! https://jovian.ai/sathi-satb/02-insurance-linear-regression\u001b[0m\n"
     ]
    },
    {
     "data": {
      "text/plain": [
       "'https://jovian.ai/sathi-satb/02-insurance-linear-regression'"
      ]
     },
     "execution_count": 423,
     "metadata": {},
     "output_type": "execute_result"
    }
   ],
   "source": [
    "jovian.commit()"
   ]
  },
  {
   "cell_type": "markdown",
   "metadata": {},
   "source": [
    "## Step 2: Prepare the dataset for training\n",
    "\n",
    "We need to convert the data from the Pandas dataframe into a PyTorch tensors for training. To do this, the first step is to convert it numpy arrays. If you've filled out `input_cols`, `categorial_cols` and `output_cols` correctly, this following function will perform the conversion to numpy arrays."
   ]
  },
  {
   "cell_type": "code",
   "execution_count": 424,
   "metadata": {},
   "outputs": [],
   "source": [
    "def dataframe_to_arrays(dataframe):\n",
    "    # Make a copy of the original dataframe\n",
    "    dataframe1 = dataframe.copy(deep=True)\n",
    "    # Convert non-numeric categorical columns to numbers\n",
    "    for col in categorical_cols:\n",
    "        dataframe1[col] = dataframe1[col].astype('category').cat.codes\n",
    "    # Extract input & outupts as numpy arrays\n",
    "    inputs_array = dataframe1[input_cols].to_numpy()\n",
    "    targets_array = dataframe1[output_cols].to_numpy()\n",
    "    return inputs_array, targets_array"
   ]
  },
  {
   "cell_type": "markdown",
   "metadata": {},
   "source": [
    "Read through the [Pandas documentation](https://pandas.pydata.org/pandas-docs/stable/user_guide/categorical.html) to understand how we're converting categorical variables into numbers."
   ]
  },
  {
   "cell_type": "code",
   "execution_count": 425,
   "metadata": {},
   "outputs": [
    {
     "data": {
      "text/plain": [
       "(array([[43.     ,  1.     , 36.9182 ,  2.     ,  1.     ,  2.     ],\n",
       "        [25.     ,  0.     , 22.76105,  0.     ,  0.     ,  0.     ],\n",
       "        [37.     ,  0.     , 33.756  ,  2.     ,  1.     ,  3.     ],\n",
       "        ...,\n",
       "        [47.     ,  1.     , 24.6477 ,  1.     ,  1.     ,  2.     ],\n",
       "        [35.     ,  1.     , 23.4061 ,  1.     ,  0.     ,  1.     ],\n",
       "        [43.     ,  0.     , 24.5119 ,  1.     ,  1.     ,  0.     ]]),\n",
       " array([[49370.099264],\n",
       "        [ 3719.529966],\n",
       "        [46210.36204 ],\n",
       "        ...,\n",
       "        [25495.265204],\n",
       "        [ 5945.250212],\n",
       "        [25254.757068]]))"
      ]
     },
     "execution_count": 425,
     "metadata": {},
     "output_type": "execute_result"
    }
   ],
   "source": [
    "inputs_array, targets_array = dataframe_to_arrays(dataframe)\n",
    "inputs_array, targets_array"
   ]
  },
  {
   "cell_type": "markdown",
   "metadata": {},
   "source": [
    "**Q: Convert the numpy arrays `inputs_array` and `targets_array` into PyTorch tensors. Make sure that the data type is `torch.float32`.**"
   ]
  },
  {
   "cell_type": "code",
   "execution_count": 426,
   "metadata": {},
   "outputs": [],
   "source": [
    "inputs = torch.from_numpy(inputs_array).float()\n",
    "targets = torch.from_numpy(targets_array).float()"
   ]
  },
  {
   "cell_type": "code",
   "execution_count": 427,
   "metadata": {},
   "outputs": [
    {
     "data": {
      "text/plain": [
       "(torch.float32, torch.float32)"
      ]
     },
     "execution_count": 427,
     "metadata": {},
     "output_type": "execute_result"
    }
   ],
   "source": [
    "inputs.dtype, targets.dtype"
   ]
  },
  {
   "cell_type": "markdown",
   "metadata": {},
   "source": [
    "Next, we need to create PyTorch datasets & data loaders for training & validation. We'll start by creating a `TensorDataset`."
   ]
  },
  {
   "cell_type": "code",
   "execution_count": 428,
   "metadata": {},
   "outputs": [],
   "source": [
    "dataset = TensorDataset(inputs, targets)"
   ]
  },
  {
   "cell_type": "markdown",
   "metadata": {},
   "source": [
    "**Q: Pick a number between `0.1` and `0.2` to determine the fraction of data that will be used for creating the validation set. Then use `random_split` to create training & validation datasets.**"
   ]
  },
  {
   "cell_type": "code",
   "execution_count": 429,
   "metadata": {},
   "outputs": [
    {
     "data": {
      "text/plain": [
       "(1081, 190)"
      ]
     },
     "execution_count": 429,
     "metadata": {},
     "output_type": "execute_result"
    }
   ],
   "source": [
    "val_percent = 0.15 # between 0.1 and 0.2\n",
    "val_size = int(num_rows * val_percent)\n",
    "train_size = num_rows - val_size\n",
    "# Using the random_split function to split dataset into 2 parts of the desired length\n",
    "train_ds, val_ds = random_split(dataset, [train_size, val_size]) # Using the random_split function to split dataset into 2 parts of the desired length\n",
    "len(train_ds), len(val_ds)"
   ]
  },
  {
   "cell_type": "markdown",
   "metadata": {},
   "source": [
    "Finally, we can create data loaders for training & validation.\n",
    "\n",
    "**Q: Pick a batch size for the data loader.**"
   ]
  },
  {
   "cell_type": "code",
   "execution_count": 430,
   "metadata": {},
   "outputs": [],
   "source": [
    "batch_size = 130"
   ]
  },
  {
   "cell_type": "code",
   "execution_count": 431,
   "metadata": {},
   "outputs": [],
   "source": [
    "train_loader = DataLoader(train_ds, batch_size, shuffle=True)\n",
    "val_loader = DataLoader(val_ds, batch_size)"
   ]
  },
  {
   "cell_type": "markdown",
   "metadata": {},
   "source": [
    "Let's look at a batch of data to verify everything is working fine so far."
   ]
  },
  {
   "cell_type": "code",
   "execution_count": 432,
   "metadata": {},
   "outputs": [
    {
     "name": "stdout",
     "output_type": "stream",
     "text": [
      "inputs: tensor([[42.0000,  0.0000, 32.1604,  1.0000,  0.0000,  0.0000],\n",
      "        [39.0000,  1.0000, 34.2410,  2.0000,  1.0000,  3.0000],\n",
      "        [43.0000,  0.0000, 33.3680,  3.0000,  0.0000,  3.0000],\n",
      "        [33.0000,  0.0000, 17.9450,  1.0000,  0.0000,  3.0000],\n",
      "        [19.0000,  1.0000, 21.1024,  0.0000,  0.0000,  1.0000],\n",
      "        [48.0000,  0.0000, 26.5392,  1.0000,  0.0000,  0.0000],\n",
      "        [47.0000,  0.0000, 23.5904,  0.0000,  0.0000,  0.0000],\n",
      "        [32.0000,  0.0000, 19.9044,  0.0000,  0.0000,  0.0000],\n",
      "        [59.0000,  1.0000, 39.9058,  1.0000,  1.0000,  2.0000],\n",
      "        [48.0000,  0.0000, 30.1961,  0.0000,  0.0000,  2.0000],\n",
      "        [24.0000,  0.0000, 19.9044,  0.0000,  1.0000,  0.0000],\n",
      "        [60.0000,  1.0000, 28.0330,  0.0000,  0.0000,  3.0000],\n",
      "        [58.0000,  0.0000, 31.9760,  0.0000,  0.0000,  0.0000],\n",
      "        [20.0000,  0.0000, 30.9624,  0.0000,  0.0000,  1.0000],\n",
      "        [56.0000,  1.0000, 30.8363,  2.0000,  1.0000,  2.0000],\n",
      "        [57.0000,  0.0000, 21.5631,  0.0000,  0.0000,  0.0000],\n",
      "        [44.0000,  1.0000, 21.1945,  3.0000,  0.0000,  0.0000],\n",
      "        [47.0000,  1.0000, 46.0944,  1.0000,  0.0000,  2.0000],\n",
      "        [24.0000,  1.0000, 38.9455,  0.0000,  1.0000,  2.0000],\n",
      "        [25.0000,  0.0000, 21.8396,  1.0000,  0.0000,  1.0000],\n",
      "        [55.0000,  0.0000, 28.8090,  2.0000,  0.0000,  3.0000],\n",
      "        [62.0000,  1.0000, 31.1467,  0.0000,  0.0000,  0.0000],\n",
      "        [33.0000,  0.0000, 27.4219,  1.0000,  0.0000,  2.0000],\n",
      "        [19.0000,  1.0000, 35.8464,  0.0000,  1.0000,  1.0000],\n",
      "        [41.0000,  0.0000, 34.9976,  1.0000,  0.0000,  2.0000],\n",
      "        [23.0000,  1.0000, 30.7781,  3.0000,  1.0000,  0.0000],\n",
      "        [39.0000,  1.0000, 28.7120,  4.0000,  0.0000,  3.0000],\n",
      "        [33.0000,  1.0000, 23.8668,  2.0000,  0.0000,  1.0000],\n",
      "        [45.0000,  0.0000, 32.1070,  0.0000,  0.0000,  3.0000],\n",
      "        [29.0000,  0.0000, 31.1467,  2.0000,  0.0000,  1.0000],\n",
      "        [42.0000,  0.0000, 22.6689,  0.0000,  1.0000,  0.0000],\n",
      "        [28.0000,  1.0000, 32.0100,  3.0000,  0.0000,  2.0000],\n",
      "        [51.0000,  1.0000, 24.0511,  2.0000,  1.0000,  1.0000],\n",
      "        [38.0000,  1.0000, 27.0000,  2.0000,  0.0000,  1.0000],\n",
      "        [21.0000,  1.0000, 24.9290,  4.0000,  1.0000,  3.0000],\n",
      "        [56.0000,  1.0000, 35.0170,  3.0000,  0.0000,  3.0000],\n",
      "        [36.0000,  1.0000, 29.9487,  1.0000,  0.0000,  1.0000],\n",
      "        [33.0000,  1.0000, 34.6775,  2.0000,  0.0000,  2.0000],\n",
      "        [46.0000,  0.0000, 34.4641,  0.0000,  1.0000,  0.0000],\n",
      "        [57.0000,  0.0000, 24.9678,  2.0000,  0.0000,  2.0000],\n",
      "        [46.0000,  0.0000, 32.4368,  1.0000,  0.0000,  2.0000],\n",
      "        [49.0000,  0.0000, 29.0273,  0.0000,  0.0000,  1.0000],\n",
      "        [40.0000,  0.0000, 40.1774,  1.0000,  0.0000,  1.0000],\n",
      "        [63.0000,  1.0000, 32.6502,  3.0000,  0.0000,  2.0000],\n",
      "        [64.0000,  0.0000, 38.1501,  0.0000,  0.0000,  0.0000],\n",
      "        [50.0000,  0.0000, 26.5392,  0.0000,  0.0000,  0.0000],\n",
      "        [42.0000,  0.0000, 36.7630,  0.0000,  0.0000,  3.0000],\n",
      "        [25.0000,  1.0000, 44.1738,  2.0000,  1.0000,  2.0000],\n",
      "        [28.0000,  0.0000, 32.0100,  2.0000,  0.0000,  2.0000],\n",
      "        [22.0000,  0.0000, 20.6416,  3.0000,  0.0000,  1.0000],\n",
      "        [26.0000,  1.0000, 31.9130,  2.0000,  1.0000,  3.0000],\n",
      "        [60.0000,  1.0000, 38.7030,  0.0000,  1.0000,  3.0000],\n",
      "        [47.0000,  1.0000, 27.3685,  3.0000,  1.0000,  1.0000],\n",
      "        [35.0000,  0.0000, 33.0818,  3.0000,  1.0000,  1.0000],\n",
      "        [27.0000,  1.0000, 22.4070,  0.0000,  0.0000,  2.0000],\n",
      "        [58.0000,  0.0000, 35.3856,  0.0000,  0.0000,  1.0000],\n",
      "        [29.0000,  0.0000, 23.8620,  2.0000,  0.0000,  3.0000],\n",
      "        [51.0000,  1.0000, 31.3310,  1.0000,  0.0000,  0.0000],\n",
      "        [18.0000,  0.0000, 39.0716,  0.0000,  0.0000,  0.0000],\n",
      "        [28.0000,  0.0000, 33.7269,  0.0000,  0.0000,  1.0000],\n",
      "        [22.0000,  1.0000, 31.1467,  0.0000,  0.0000,  1.0000],\n",
      "        [40.0000,  0.0000, 21.5534,  2.0000,  1.0000,  2.0000],\n",
      "        [19.0000,  1.0000, 20.0790,  0.0000,  0.0000,  3.0000],\n",
      "        [27.0000,  0.0000, 17.4163,  2.0000,  1.0000,  0.0000],\n",
      "        [52.0000,  0.0000, 36.3993,  2.0000,  0.0000,  1.0000],\n",
      "        [29.0000,  0.0000, 25.1230,  0.0000,  0.0000,  3.0000],\n",
      "        [38.0000,  0.0000, 18.8908,  2.0000,  0.0000,  1.0000],\n",
      "        [62.0000,  1.0000, 29.9487,  3.0000,  1.0000,  1.0000],\n",
      "        [35.0000,  0.0000, 27.1842,  0.0000,  1.0000,  1.0000],\n",
      "        [64.0000,  1.0000, 37.0443,  0.0000,  0.0000,  0.0000],\n",
      "        [64.0000,  0.0000, 30.3610,  2.0000,  1.0000,  3.0000],\n",
      "        [22.0000,  0.0000, 26.2870,  0.0000,  0.0000,  3.0000],\n",
      "        [19.0000,  1.0000, 33.3680,  0.0000,  0.0000,  3.0000],\n",
      "        [19.0000,  0.0000, 23.9590,  0.0000,  0.0000,  3.0000],\n",
      "        [31.0000,  1.0000, 27.7372,  1.0000,  0.0000,  1.0000],\n",
      "        [62.0000,  0.0000, 37.9852,  0.0000,  0.0000,  2.0000],\n",
      "        [26.0000,  1.0000, 28.2755,  1.0000,  0.0000,  2.0000],\n",
      "        [26.0000,  0.0000, 33.1740,  2.0000,  0.0000,  3.0000],\n",
      "        [24.0000,  0.0000, 29.3037,  3.0000,  0.0000,  1.0000],\n",
      "        [23.0000,  1.0000, 18.1535,  0.0000,  0.0000,  1.0000],\n",
      "        [61.0000,  0.0000, 29.0224,  3.0000,  1.0000,  2.0000],\n",
      "        [51.0000,  0.0000, 17.5085,  0.0000,  0.0000,  1.0000],\n",
      "        [18.0000,  0.0000, 37.1316,  0.0000,  0.0000,  2.0000],\n",
      "        [63.0000,  0.0000, 26.9078,  0.0000,  1.0000,  0.0000],\n",
      "        [30.0000,  0.0000, 22.2082,  1.0000,  0.0000,  0.0000],\n",
      "        [21.0000,  1.0000, 25.2491,  0.0000,  0.0000,  0.0000],\n",
      "        [21.0000,  0.0000, 21.2333,  2.0000,  0.0000,  2.0000],\n",
      "        [49.0000,  1.0000, 29.3910,  0.0000,  0.0000,  3.0000],\n",
      "        [54.0000,  0.0000, 34.7406,  3.0000,  0.0000,  1.0000],\n",
      "        [60.0000,  0.0000, 31.4765,  0.0000,  1.0000,  2.0000],\n",
      "        [19.0000,  0.0000, 28.9060,  0.0000,  0.0000,  3.0000],\n",
      "        [64.0000,  1.0000, 36.7678,  0.0000,  0.0000,  1.0000],\n",
      "        [35.0000,  1.0000, 35.5699,  1.0000,  1.0000,  0.0000],\n",
      "        [54.0000,  1.0000, 32.6211,  1.0000,  0.0000,  1.0000],\n",
      "        [45.0000,  0.0000, 24.4198,  2.0000,  0.0000,  0.0000],\n",
      "        [19.0000,  1.0000, 19.9965,  2.0000,  0.0000,  1.0000],\n",
      "        [31.0000,  0.0000, 22.8920,  2.0000,  0.0000,  3.0000],\n",
      "        [55.0000,  0.0000, 28.9351,  0.0000,  0.0000,  0.0000],\n",
      "        [35.0000,  1.0000, 37.4420,  1.0000,  0.0000,  3.0000],\n",
      "        [27.0000,  1.0000, 30.1961,  1.0000,  1.0000,  2.0000],\n",
      "        [21.0000,  1.0000, 35.7445,  0.0000,  0.0000,  2.0000],\n",
      "        [60.0000,  0.0000, 26.7235,  0.0000,  0.0000,  0.0000],\n",
      "        [30.0000,  0.0000, 26.8690,  0.0000,  0.0000,  3.0000],\n",
      "        [54.0000,  1.0000, 24.3470,  3.0000,  1.0000,  3.0000],\n",
      "        [19.0000,  1.0000, 26.4471,  2.0000,  0.0000,  1.0000],\n",
      "        [46.0000,  0.0000, 26.8884,  1.0000,  0.0000,  2.0000],\n",
      "        [60.0000,  1.0000, 35.8464,  0.0000,  0.0000,  0.0000],\n",
      "        [55.0000,  1.0000, 29.7645,  0.0000,  1.0000,  0.0000],\n",
      "        [38.0000,  0.0000, 26.7720,  0.0000,  0.0000,  3.0000],\n",
      "        [34.0000,  0.0000, 32.2525,  1.0000,  0.0000,  0.0000],\n",
      "        [27.0000,  0.0000, 24.0075,  0.0000,  1.0000,  2.0000],\n",
      "        [54.0000,  0.0000, 45.9877,  0.0000,  1.0000,  2.0000],\n",
      "        [50.0000,  1.0000, 31.2388,  0.0000,  0.0000,  1.0000],\n",
      "        [28.0000,  1.0000, 36.9182,  0.0000,  0.0000,  2.0000],\n",
      "        [18.0000,  0.0000, 38.9795,  0.0000,  0.0000,  0.0000],\n",
      "        [63.0000,  0.0000, 31.2340,  2.0000,  1.0000,  3.0000],\n",
      "        [31.0000,  1.0000, 26.8157,  2.0000,  0.0000,  0.0000],\n",
      "        [62.0000,  1.0000, 38.7321,  0.0000,  0.0000,  2.0000],\n",
      "        [46.0000,  1.0000, 32.3447,  1.0000,  0.0000,  0.0000],\n",
      "        [22.0000,  1.0000, 32.7569,  0.0000,  0.0000,  2.0000],\n",
      "        [60.0000,  0.0000, 25.0648,  0.0000,  0.0000,  1.0000],\n",
      "        [59.0000,  1.0000, 28.8090,  2.0000,  0.0000,  2.0000],\n",
      "        [26.0000,  1.0000, 45.1341,  1.0000,  0.0000,  2.0000],\n",
      "        [44.0000,  0.0000, 35.8464,  1.0000,  0.0000,  1.0000],\n",
      "        [41.0000,  0.0000, 27.4607,  1.0000,  0.0000,  1.0000],\n",
      "        [46.0000,  1.0000, 41.0795,  3.0000,  1.0000,  2.0000],\n",
      "        [19.0000,  1.0000, 29.6723,  0.0000,  0.0000,  1.0000],\n",
      "        [26.0000,  1.0000, 20.1760,  0.0000,  0.0000,  3.0000],\n",
      "        [40.0000,  0.0000, 22.6689,  3.0000,  0.0000,  0.0000],\n",
      "        [46.0000,  0.0000, 26.9078,  0.0000,  0.0000,  1.0000]])\n",
      "targets: tensor([[ 8861.7246],\n",
      "        [46520.5117],\n",
      "        [ 9885.5234],\n",
      "        [ 5528.5854],\n",
      "        [ 1887.6476],\n",
      "        [10958.9639],\n",
      "        [ 9900.2197],\n",
      "        [ 5271.3125],\n",
      "        [56805.4883],\n",
      "        [ 9605.5225],\n",
      "        [16903.3926],\n",
      "        [14090.4863],\n",
      "        [14419.9062],\n",
      "        [ 2623.4199],\n",
      "        [50824.0859],\n",
      "        [13953.9727],\n",
      "        [10313.7217],\n",
      "        [ 9377.3467],\n",
      "        [44226.4453],\n",
      "        [ 4169.2383],\n",
      "        [13782.3750],\n",
      "        [15723.8057],\n",
      "        [ 5544.3389],\n",
      "        [42014.5117],\n",
      "        [ 7866.3711],\n",
      "        [41979.3594],\n",
      "        [ 8714.2295],\n",
      "        [ 6098.7090],\n",
      "        [ 8520.2979],\n",
      "        [ 5710.5825],\n",
      "        [23159.1055],\n",
      "        [ 5161.3760],\n",
      "        [27802.1641],\n",
      "        [ 7488.8008],\n",
      "        [20812.8438],\n",
      "        [14341.7148],\n",
      "        [ 6233.1025],\n",
      "        [ 5672.3994],\n",
      "        [48849.5312],\n",
      "        [14649.8320],\n",
      "        [ 9559.0840],\n",
      "        [10426.2637],\n",
      "        [33033.0117],\n",
      "        [17587.3809],\n",
      "        [17285.7598],\n",
      "        [29761.6270],\n",
      "        [ 7509.8550],\n",
      "        [48850.1914],\n",
      "        [ 5045.3760],\n",
      "        [ 4983.6748],\n",
      "        [41858.8555],\n",
      "        [55881.0977],\n",
      "        [28901.6562],\n",
      "        [46380.7734],\n",
      "        [ 2881.1338],\n",
      "        [14193.5732],\n",
      "        [ 5254.1934],\n",
      "        [11558.3096],\n",
      "        [ 2572.4175],\n",
      "        [ 4126.0298],\n",
      "        [ 2384.1770],\n",
      "        [22555.3477],\n",
      "        [ 1441.6665],\n",
      "        [17407.6328],\n",
      "        [38827.4883],\n",
      "        [ 3889.8093],\n",
      "        [ 8042.5610],\n",
      "        [54193.0703],\n",
      "        [23472.4316],\n",
      "        [16716.6816],\n",
      "        [54857.6250],\n",
      "        [ 2499.0588],\n",
      "        [ 1463.7565],\n",
      "        [ 2015.3562],\n",
      "        [ 4922.5645],\n",
      "        [15626.1328],\n",
      "        [ 3367.3716],\n",
      "        [ 4625.9941],\n",
      "        [ 5356.9727],\n",
      "        [25050.6426],\n",
      "        [35892.9414],\n",
      "        [11187.3330],\n",
      "        [ 1892.9126],\n",
      "        [34246.8711],\n",
      "        [ 5474.6479],\n",
      "        [ 2438.6270],\n",
      "        [ 3689.3916],\n",
      "        [ 9415.3486],\n",
      "        [14494.5371],\n",
      "        [52210.3867],\n",
      "        [ 2023.5793],\n",
      "        [16484.2227],\n",
      "        [46138.1602],\n",
      "        [12557.2939],\n",
      "        [10550.2793],\n",
      "        [ 3252.2896],\n",
      "        [ 5720.7104],\n",
      "        [13092.3848],\n",
      "        [ 5524.3018],\n",
      "        [40375.5039],\n",
      "        [ 1779.7932],\n",
      "        [15331.8301],\n",
      "        [ 4122.8755],\n",
      "        [29443.4648],\n",
      "        [26092.6445],\n",
      "        [ 9549.8613],\n",
      "        [14779.7539],\n",
      "        [49072.2812],\n",
      "        [ 6244.9019],\n",
      "        [ 6490.0210],\n",
      "        [19230.2246],\n",
      "        [73973.6953],\n",
      "        [10248.9072],\n",
      "        [ 3119.8147],\n",
      "        [ 2572.2642],\n",
      "        [54874.1523],\n",
      "        [ 5836.2725],\n",
      "        [15060.1348],\n",
      "        [ 9667.9707],\n",
      "        [ 1942.5735],\n",
      "        [33550.8398],\n",
      "        [14994.0273],\n",
      "        [ 3395.3950],\n",
      "        [ 9306.8369],\n",
      "        [ 8298.1221],\n",
      "        [53535.3047],\n",
      "        [ 1901.8932],\n",
      "        [ 2670.6680],\n",
      "        [ 9572.6494],\n",
      "        [ 9310.9336]])\n"
     ]
    }
   ],
   "source": [
    "for xb, yb in train_loader:\n",
    "    print(\"inputs:\", xb)\n",
    "    print(\"targets:\", yb)\n",
    "    break"
   ]
  },
  {
   "cell_type": "markdown",
   "metadata": {},
   "source": [
    "Let's save our work by committing to Jovian."
   ]
  },
  {
   "cell_type": "code",
   "execution_count": 433,
   "metadata": {},
   "outputs": [
    {
     "data": {
      "application/javascript": [
       "window.require && require([\"base/js/namespace\"],function(Jupyter){Jupyter.notebook.save_checkpoint()})"
      ],
      "text/plain": [
       "<IPython.core.display.Javascript object>"
      ]
     },
     "metadata": {},
     "output_type": "display_data"
    },
    {
     "name": "stdout",
     "output_type": "stream",
     "text": [
      "[jovian] Attempting to save notebook..\u001b[0m\n",
      "[jovian] Updating notebook \"sathi-satb/02-insurance-linear-regression\" on https://jovian.ai\u001b[0m\n",
      "[jovian] Uploading notebook..\u001b[0m\n",
      "[jovian] Uploading additional files...\u001b[0m\n",
      "[jovian] Committed successfully! https://jovian.ai/sathi-satb/02-insurance-linear-regression\u001b[0m\n"
     ]
    },
    {
     "data": {
      "text/plain": [
       "'https://jovian.ai/sathi-satb/02-insurance-linear-regression'"
      ]
     },
     "execution_count": 433,
     "metadata": {},
     "output_type": "execute_result"
    }
   ],
   "source": [
    "jovian.commit(project=project_name, environment=None)"
   ]
  },
  {
   "cell_type": "markdown",
   "metadata": {},
   "source": [
    "## Step 3: Create a Linear Regression Model\n",
    "\n",
    "Our model itself is a fairly straightforward linear regression (we'll build more complex models in the next assignment). \n"
   ]
  },
  {
   "cell_type": "code",
   "execution_count": 434,
   "metadata": {},
   "outputs": [],
   "source": [
    "input_size = len(input_cols)\n",
    "output_size = len(output_cols)"
   ]
  },
  {
   "cell_type": "markdown",
   "metadata": {},
   "source": [
    "**Q: Complete the class definition below by filling out the constructor (`__init__`), `forward`, `training_step` and `validation_step` methods.**\n",
    "\n",
    "Hint: Think carefully about picking a good loss fuction (it's not cross entropy). Maybe try 2-3 of them and see which one works best. See https://pytorch.org/docs/stable/nn.functional.html#loss-functions"
   ]
  },
  {
   "cell_type": "code",
   "execution_count": 435,
   "metadata": {},
   "outputs": [],
   "source": [
    "class InsuranceModel(nn.Module):\n",
    "    def __init__(self):\n",
    "        super().__init__()\n",
    "        self.linear = nn.Linear(input_size, output_size) # fill this (hint: use input_size & output_size defined above)\n",
    "        \n",
    "    def forward(self, xb):\n",
    "        out = self.linear(xb)               # fill this\n",
    "        return out\n",
    "    \n",
    "    def training_step(self, batch):\n",
    "        inputs, targets = batch \n",
    "        # Generate predictions\n",
    "        out = self(inputs)          \n",
    "        # Calcuate loss\n",
    "        loss = F.l1_loss(out,targets)       # fill this\n",
    "        return loss\n",
    "    \n",
    "    def validation_step(self, batch):\n",
    "        inputs, targets = batch\n",
    "        # Generate predictions\n",
    "        out = self(inputs)\n",
    "        # Calculate loss\n",
    "        loss = F.l1_loss(out, targets)       # fill this    \n",
    "        return {'val_loss': loss.detach()}\n",
    "        \n",
    "    def validation_epoch_end(self, outputs):\n",
    "        batch_losses = [x['val_loss'] for x in outputs]\n",
    "        epoch_loss = torch.stack(batch_losses).mean()   # Combine losses\n",
    "        return {'val_loss': epoch_loss.item()}\n",
    "    \n",
    "    def epoch_end(self, epoch, result, num_epochs):\n",
    "        # Print result every 20th epoch\n",
    "        if (epoch+1) % 20 == 0 or epoch == num_epochs-1:\n",
    "            print(\"Epoch [{}], val_loss: {:.4f}\".format(epoch+1, result['val_loss']))"
   ]
  },
  {
   "cell_type": "markdown",
   "metadata": {},
   "source": [
    "Let us create a model using the `InsuranceModel` class. You may need to come back later and re-run the next cell to reinitialize the model, in case the loss becomes `nan` or `infinity`."
   ]
  },
  {
   "cell_type": "code",
   "execution_count": 436,
   "metadata": {},
   "outputs": [],
   "source": [
    "model = InsuranceModel()"
   ]
  },
  {
   "cell_type": "markdown",
   "metadata": {},
   "source": [
    "Let's check out the weights and biases of the model using `model.parameters`."
   ]
  },
  {
   "cell_type": "code",
   "execution_count": 437,
   "metadata": {},
   "outputs": [
    {
     "data": {
      "text/plain": [
       "[Parameter containing:\n",
       " tensor([[-0.0085,  0.0743,  0.3985, -0.3409,  0.1549,  0.1283]],\n",
       "        requires_grad=True),\n",
       " Parameter containing:\n",
       " tensor([0.2911], requires_grad=True)]"
      ]
     },
     "execution_count": 437,
     "metadata": {},
     "output_type": "execute_result"
    }
   ],
   "source": [
    "list(model.parameters())"
   ]
  },
  {
   "cell_type": "markdown",
   "metadata": {},
   "source": [
    "One final commit before we train the model."
   ]
  },
  {
   "cell_type": "code",
   "execution_count": 438,
   "metadata": {},
   "outputs": [
    {
     "data": {
      "application/javascript": [
       "window.require && require([\"base/js/namespace\"],function(Jupyter){Jupyter.notebook.save_checkpoint()})"
      ],
      "text/plain": [
       "<IPython.core.display.Javascript object>"
      ]
     },
     "metadata": {},
     "output_type": "display_data"
    },
    {
     "name": "stdout",
     "output_type": "stream",
     "text": [
      "[jovian] Attempting to save notebook..\u001b[0m\n",
      "[jovian] Updating notebook \"sathi-satb/02-insurance-linear-regression\" on https://jovian.ai\u001b[0m\n",
      "[jovian] Uploading notebook..\u001b[0m\n",
      "[jovian] Uploading additional files...\u001b[0m\n",
      "[jovian] Committed successfully! https://jovian.ai/sathi-satb/02-insurance-linear-regression\u001b[0m\n"
     ]
    },
    {
     "data": {
      "text/plain": [
       "'https://jovian.ai/sathi-satb/02-insurance-linear-regression'"
      ]
     },
     "execution_count": 438,
     "metadata": {},
     "output_type": "execute_result"
    }
   ],
   "source": [
    "jovian.commit(project=project_name, environment=None)"
   ]
  },
  {
   "cell_type": "markdown",
   "metadata": {},
   "source": [
    "## Step 4: Train the model to fit the data\n",
    "\n",
    "To train our model, we'll use the same `fit` function explained in the lecture. That's the benefit of defining a generic training loop - you can use it for any problem."
   ]
  },
  {
   "cell_type": "code",
   "execution_count": 439,
   "metadata": {},
   "outputs": [],
   "source": [
    "def evaluate(model, val_loader):\n",
    "    outputs = [model.validation_step(batch) for batch in val_loader]\n",
    "    return model.validation_epoch_end(outputs)\n",
    "\n",
    "def fit(epochs, lr, model, train_loader, val_loader, opt_func=torch.optim.SGD):\n",
    "    history = []\n",
    "    optimizer = opt_func(model.parameters(), lr)\n",
    "    for epoch in range(epochs):\n",
    "        # Training Phase \n",
    "        for batch in train_loader:\n",
    "            loss = model.training_step(batch)\n",
    "            loss.backward()\n",
    "            optimizer.step()\n",
    "            optimizer.zero_grad()\n",
    "        # Validation phase\n",
    "        result = evaluate(model, val_loader)\n",
    "        model.epoch_end(epoch, result, epochs)\n",
    "        history.append(result)\n",
    "    return history"
   ]
  },
  {
   "cell_type": "markdown",
   "metadata": {},
   "source": [
    "**Q: Use the `evaluate` function to calculate the loss on the validation set before training.**"
   ]
  },
  {
   "cell_type": "code",
   "execution_count": 440,
   "metadata": {},
   "outputs": [
    {
     "name": "stdout",
     "output_type": "stream",
     "text": [
      "{'val_loss': 13477.984375}\n"
     ]
    }
   ],
   "source": [
    "result = evaluate(model, val_loader) # Use the the evaluate function\n",
    "print(result)"
   ]
  },
  {
   "cell_type": "markdown",
   "metadata": {},
   "source": [
    "\n",
    "We are now ready to train the model. You may need to run the training loop many times, for different number of epochs and with different learning rates, to get a good result. Also, if your loss becomes too large (or `nan`), you may have to re-initialize the model by running the cell `model = InsuranceModel()`. Experiment with this for a while, and try to get to as low a loss as possible."
   ]
  },
  {
   "cell_type": "markdown",
   "metadata": {},
   "source": [
    "**Q: Train the model 4-5 times with different learning rates & for different number of epochs.**\n",
    "\n",
    "Hint: Vary learning rates by orders of 10 (e.g. `1e-2`, `1e-3`, `1e-4`, `1e-5`, `1e-6`) to figure out what works."
   ]
  },
  {
   "cell_type": "code",
   "execution_count": 441,
   "metadata": {},
   "outputs": [
    {
     "name": "stdout",
     "output_type": "stream",
     "text": [
      "Epoch [20], val_loss: 7216.8145\n",
      "Epoch [40], val_loss: 6942.9185\n",
      "Epoch [60], val_loss: 6738.2832\n"
     ]
    }
   ],
   "source": [
    "epochs = 60\n",
    "lr = 1e-1\n",
    "history1 = fit(epochs, lr, model, train_loader, val_loader)"
   ]
  },
  {
   "cell_type": "code",
   "execution_count": 442,
   "metadata": {},
   "outputs": [
    {
     "name": "stdout",
     "output_type": "stream",
     "text": [
      "Epoch [20], val_loss: 6719.1611\n",
      "Epoch [40], val_loss: 6701.2578\n",
      "Epoch [60], val_loss: 6684.4473\n",
      "Epoch [70], val_loss: 6675.7881\n"
     ]
    }
   ],
   "source": [
    "epochs = 70\n",
    "lr = 1e-2\n",
    "history2 = fit(epochs, lr, model, train_loader, val_loader)"
   ]
  },
  {
   "cell_type": "code",
   "execution_count": 443,
   "metadata": {},
   "outputs": [
    {
     "name": "stdout",
     "output_type": "stream",
     "text": [
      "Epoch [20], val_loss: 6674.1968\n",
      "Epoch [40], val_loss: 6672.7627\n",
      "Epoch [60], val_loss: 6671.0996\n",
      "Epoch [80], val_loss: 6669.4326\n"
     ]
    }
   ],
   "source": [
    "epochs = 80\n",
    "lr = 1e-3\n",
    "history3 = fit(epochs, lr, model, train_loader, val_loader)"
   ]
  },
  {
   "cell_type": "code",
   "execution_count": 444,
   "metadata": {},
   "outputs": [
    {
     "name": "stdout",
     "output_type": "stream",
     "text": [
      "Epoch [20], val_loss: 6669.2686\n",
      "Epoch [40], val_loss: 6669.0947\n",
      "Epoch [60], val_loss: 6668.9316\n",
      "Epoch [80], val_loss: 6668.7822\n",
      "Epoch [100], val_loss: 6668.6143\n"
     ]
    }
   ],
   "source": [
    "epochs = 100\n",
    "lr = 1e-4\n",
    "history4 = fit(epochs, lr, model, train_loader, val_loader)"
   ]
  },
  {
   "cell_type": "code",
   "execution_count": 445,
   "metadata": {},
   "outputs": [
    {
     "name": "stdout",
     "output_type": "stream",
     "text": [
      "Epoch [20], val_loss: 6668.5991\n",
      "Epoch [40], val_loss: 6668.5811\n",
      "Epoch [60], val_loss: 6668.5664\n",
      "Epoch [80], val_loss: 6668.5498\n",
      "Epoch [100], val_loss: 6668.5356\n"
     ]
    }
   ],
   "source": [
    "epochs = 100\n",
    "lr = 1e-5\n",
    "history5 = fit(epochs, lr, model, train_loader, val_loader)"
   ]
  },
  {
   "cell_type": "markdown",
   "metadata": {},
   "source": [
    "**Q: What is the final validation loss of your model?**"
   ]
  },
  {
   "cell_type": "code",
   "execution_count": 446,
   "metadata": {},
   "outputs": [],
   "source": [
    "val_loss = 6668.5356"
   ]
  },
  {
   "cell_type": "markdown",
   "metadata": {},
   "source": [
    "Let's log the final validation loss to Jovian and commit the notebook"
   ]
  },
  {
   "cell_type": "code",
   "execution_count": 447,
   "metadata": {},
   "outputs": [
    {
     "name": "stdout",
     "output_type": "stream",
     "text": [
      "[jovian] Metrics logged.\u001b[0m\n"
     ]
    }
   ],
   "source": [
    "jovian.log_metrics(val_loss=val_loss)"
   ]
  },
  {
   "cell_type": "code",
   "execution_count": 448,
   "metadata": {},
   "outputs": [
    {
     "data": {
      "application/javascript": [
       "window.require && require([\"base/js/namespace\"],function(Jupyter){Jupyter.notebook.save_checkpoint()})"
      ],
      "text/plain": [
       "<IPython.core.display.Javascript object>"
      ]
     },
     "metadata": {},
     "output_type": "display_data"
    },
    {
     "name": "stdout",
     "output_type": "stream",
     "text": [
      "[jovian] Attempting to save notebook..\u001b[0m\n",
      "[jovian] Updating notebook \"sathi-satb/02-insurance-linear-regression\" on https://jovian.ai\u001b[0m\n",
      "[jovian] Uploading notebook..\u001b[0m\n",
      "[jovian] Uploading additional files...\u001b[0m\n",
      "[jovian] Attaching records (metrics, hyperparameters, dataset etc.)\u001b[0m\n",
      "[jovian] Committed successfully! https://jovian.ai/sathi-satb/02-insurance-linear-regression\u001b[0m\n"
     ]
    },
    {
     "data": {
      "text/plain": [
       "'https://jovian.ai/sathi-satb/02-insurance-linear-regression'"
      ]
     },
     "execution_count": 448,
     "metadata": {},
     "output_type": "execute_result"
    }
   ],
   "source": [
    "jovian.commit(project=project_name, environment=None)"
   ]
  },
  {
   "cell_type": "markdown",
   "metadata": {},
   "source": [
    "Now scroll back up, re-initialize the model, and try different set of values for batch size, number of epochs, learning rate etc. Commit each experiment and use the \"Compare\" and \"View Diff\" options on Jovian to compare the different results."
   ]
  },
  {
   "cell_type": "markdown",
   "metadata": {},
   "source": [
    "## Step 5: Make predictions using the trained model\n",
    "\n",
    "**Q: Complete the following function definition to make predictions on a single input**"
   ]
  },
  {
   "cell_type": "code",
   "execution_count": 450,
   "metadata": {},
   "outputs": [],
   "source": [
    "def predict_single(input, target, model):\n",
    "    inputs = input.unsqueeze(0)\n",
    "    predictions = model.forward(inputs)              # fill this\n",
    "    prediction = predictions[0].detach()\n",
    "    print(\"Input:\", input)\n",
    "    print(\"Target:\", target)\n",
    "    print(\"Prediction:\", prediction)"
   ]
  },
  {
   "cell_type": "code",
   "execution_count": 451,
   "metadata": {},
   "outputs": [
    {
     "name": "stdout",
     "output_type": "stream",
     "text": [
      "Input: tensor([52.0000,  1.0000, 37.4420,  2.0000,  0.0000,  3.0000])\n",
      "Target: tensor([11977.2393])\n",
      "Prediction: tensor([12069.5703])\n"
     ]
    }
   ],
   "source": [
    "input, target = val_ds[0]\n",
    "predict_single(input, target, model)"
   ]
  },
  {
   "cell_type": "code",
   "execution_count": 452,
   "metadata": {},
   "outputs": [
    {
     "name": "stdout",
     "output_type": "stream",
     "text": [
      "Input: tensor([49.0000,  1.0000, 35.7445,  0.0000,  0.0000,  2.0000])\n",
      "Target: tensor([9425.9102])\n",
      "Prediction: tensor([11350.5176])\n"
     ]
    }
   ],
   "source": [
    "input, target = val_ds[10]\n",
    "predict_single(input, target, model)"
   ]
  },
  {
   "cell_type": "code",
   "execution_count": 453,
   "metadata": {},
   "outputs": [
    {
     "name": "stdout",
     "output_type": "stream",
     "text": [
      "Input: tensor([19.0000,  0.0000, 38.4266,  1.0000,  0.0000,  1.0000])\n",
      "Target: tensor([3166.9250])\n",
      "Prediction: tensor([3716.0842])\n"
     ]
    }
   ],
   "source": [
    "input, target = val_ds[23]\n",
    "predict_single(input, target, model)"
   ]
  },
  {
   "cell_type": "markdown",
   "metadata": {},
   "source": [
    "Are you happy with your model's predictions? Try to improve them further."
   ]
  },
  {
   "cell_type": "markdown",
   "metadata": {},
   "source": [
    "## (Optional) Step 6: Try another dataset & blog about it\n",
    "\n",
    "While this last step is optional for the submission of your assignment, we highly recommend that you do it. Try to replicate this notebook for a different linear regression or logistic regression problem. This will help solidify your understanding, and give you a chance to differentiate the generic patterns in machine learning from problem-specific details.You can use one of these starer notebooks (just change the dataset):\n",
    "\n",
    "- Linear regression (minimal): https://jovian.ai/aakashns/housing-linear-minimal\n",
    "- Logistic regression (minimal): https://jovian.ai/aakashns/mnist-logistic-minimal\n",
    "\n",
    "Here are some sources to find good datasets:\n",
    "\n",
    "- https://lionbridge.ai/datasets/10-open-datasets-for-linear-regression/\n",
    "- https://www.kaggle.com/rtatman/datasets-for-regression-analysis\n",
    "- https://archive.ics.uci.edu/ml/datasets.php?format=&task=reg&att=&area=&numAtt=&numIns=&type=&sort=nameUp&view=table\n",
    "- https://people.sc.fsu.edu/~jburkardt/datasets/regression/regression.html\n",
    "- https://archive.ics.uci.edu/ml/datasets/wine+quality\n",
    "- https://pytorch.org/docs/stable/torchvision/datasets.html\n",
    "\n",
    "We also recommend that you write a blog about your approach to the problem. Here is a suggested structure for your post (feel free to experiment with it):\n",
    "\n",
    "- Interesting title & subtitle\n",
    "- Overview of what the blog covers (which dataset, linear regression or logistic regression, intro to PyTorch)\n",
    "- Downloading & exploring the data\n",
    "- Preparing the data for training\n",
    "- Creating a model using PyTorch\n",
    "- Training the model to fit the data\n",
    "- Your thoughts on how to experiment with different hyperparmeters to reduce loss\n",
    "- Making predictions using the model\n",
    "\n",
    "As with the previous assignment, you can [embed Juptyer notebook cells & outputs from Jovian](https://medium.com/jovianml/share-and-embed-jupyter-notebooks-online-with-jovian-ml-df709a03064e) into your blog. \n",
    "\n",
    "Don't forget to share your work on the forum: https://jovian.ai/forum/t/linear-regression-and-logistic-regression-notebooks-and-blog-posts/14039"
   ]
  },
  {
   "cell_type": "code",
   "execution_count": null,
   "metadata": {},
   "outputs": [
    {
     "data": {
      "application/javascript": [
       "window.require && require([\"base/js/namespace\"],function(Jupyter){Jupyter.notebook.save_checkpoint()})"
      ],
      "text/plain": [
       "<IPython.core.display.Javascript object>"
      ]
     },
     "metadata": {},
     "output_type": "display_data"
    },
    {
     "name": "stdout",
     "output_type": "stream",
     "text": [
      "[jovian] Attempting to save notebook..\u001b[0m\n",
      "[jovian] Updating notebook \"sathi-satb/02-insurance-linear-regression\" on https://jovian.ai\u001b[0m\n",
      "[jovian] Uploading notebook..\u001b[0m\n",
      "[jovian] Uploading additional files...\u001b[0m\n",
      "[jovian] Attaching records (metrics, hyperparameters, dataset etc.)\u001b[0m\n",
      "[jovian] Committed successfully! https://jovian.ai/sathi-satb/02-insurance-linear-regression\u001b[0m\n"
     ]
    },
    {
     "data": {
      "application/javascript": [
       "window.require && require([\"base/js/namespace\"],function(Jupyter){Jupyter.notebook.save_checkpoint()})"
      ],
      "text/plain": [
       "<IPython.core.display.Javascript object>"
      ]
     },
     "metadata": {},
     "output_type": "display_data"
    },
    {
     "name": "stdout",
     "output_type": "stream",
     "text": [
      "[jovian] Attempting to save notebook..\u001b[0m\n"
     ]
    }
   ],
   "source": [
    "jovian.commit(project=project_name, environment=None)\n",
    "jovian.commit(project=project_name, environment=None) # try again, kaggle fails sometimes"
   ]
  },
  {
   "cell_type": "code",
   "execution_count": null,
   "metadata": {},
   "outputs": [],
   "source": []
  }
 ],
 "metadata": {
  "kernelspec": {
   "display_name": "Python 3",
   "language": "python",
   "name": "python3"
  },
  "language_info": {
   "codemirror_mode": {
    "name": "ipython",
    "version": 3
   },
   "file_extension": ".py",
   "mimetype": "text/x-python",
   "name": "python",
   "nbconvert_exporter": "python",
   "pygments_lexer": "ipython3",
   "version": "3.8.6"
  }
 },
 "nbformat": 4,
 "nbformat_minor": 4
}
